{
 "cells": [
  {
   "cell_type": "code",
   "execution_count": 2,
   "id": "8192813d",
   "metadata": {},
   "outputs": [
    {
     "name": "stdout",
     "output_type": "stream",
     "text": [
      "Enter The URL : https://www.google.com/\n",
      "The accuracy level is :  95.92944369063771\n",
      "The Given URL  https://www.google.com/  is : Legitimate Url 🙂\n"
     ]
    }
   ],
   "source": [
    "import pandas as pd\n",
    "import numpy as np\n",
    "from sklearn.model_selection import train_test_split\n",
    "from sklearn.tree import DecisionTreeClassifier\n",
    "from sklearn.metrics import accuracy_score\n",
    "import features_extraction\n",
    "import emoji\n",
    "\n",
    "\n",
    "def getResult(url):\n",
    "    data = pd.read_csv(\"detect_phishing_website.csv\")\n",
    "    data.drop([\"id\"], axis=1, inplace=True)\n",
    "    data = data.dropna()\n",
    "    y = data.Result\n",
    "    x = data.drop('Result', axis=1)\n",
    "    x_train, x_test, y_train, y_test = train_test_split(x, y, test_size=0.2)\n",
    "    dt = DecisionTreeClassifier(random_state=0)\n",
    "    dt.fit(x_train, y_train)\n",
    "    y_predict = dt.predict(x_test)\n",
    "    score = dt.score(x_test, y_test)\n",
    "    print('The accuracy level is : ',100 * score)\n",
    "    X_new = []\n",
    "\n",
    "    X_input = url\n",
    "    X_new = features_extraction.generate_data_set(X_input)\n",
    "\n",
    "    X_new = np.array(X_new).reshape(1, -1)\n",
    "    try:\n",
    "        prediction = dt.predict(X_new)\n",
    "        print(\"The Given URL \",url,\" is :\",end=\" \")\n",
    "        if prediction ==-1:\n",
    "            print(emoji.emojize('Phishing Url :skull_and_crossbones:'))\n",
    "        else:\n",
    "            print(emoji.emojize('Legitimate Url :slightly_smiling_face:'))\n",
    "    except:\n",
    "            print(\"The Given URL \",url,\" is :\",end=\" \")\n",
    "            print(emoji.emojize('Phishing Url :skull_and_crossbones:'))\n",
    "    \n",
    "url=input('Enter The URL : ')\n",
    "Domain=['.com','.net','.in']\n",
    "for i in Domain:\n",
    "    if i in url:\n",
    "        getResult(url)\n",
    "        break\n",
    "else:\n",
    "    print(emoji.emojize('Enter Valid URL :pleading_face:'))\n",
    "   "
   ]
  },
  {
   "cell_type": "code",
   "execution_count": null,
   "id": "ddd84db1",
   "metadata": {},
   "outputs": [],
   "source": []
  }
 ],
 "metadata": {
  "kernelspec": {
   "display_name": "Python 3",
   "language": "python",
   "name": "python3"
  },
  "language_info": {
   "codemirror_mode": {
    "name": "ipython",
    "version": 3
   },
   "file_extension": ".py",
   "mimetype": "text/x-python",
   "name": "python",
   "nbconvert_exporter": "python",
   "pygments_lexer": "ipython3",
   "version": "3.8.8"
  }
 },
 "nbformat": 4,
 "nbformat_minor": 5
}
